{
 "metadata": {
  "language_info": {
   "codemirror_mode": {
    "name": "ipython",
    "version": 3
   },
   "file_extension": ".py",
   "mimetype": "text/x-python",
   "name": "python",
   "nbconvert_exporter": "python",
   "pygments_lexer": "ipython3",
   "version": "3.8.8"
  },
  "orig_nbformat": 2,
  "kernelspec": {
   "name": "python388jvsc74a57bd0e6eaa82f4d802ea5560277def7cadd4a78e8a8bab7a3a40058d4bbac8cb572b1",
   "display_name": "Python 3.8.8 64-bit ('d2l': conda)"
  }
 },
 "nbformat": 4,
 "nbformat_minor": 2,
 "cells": [
  {
   "cell_type": "code",
   "execution_count": 22,
   "metadata": {},
   "outputs": [
    {
     "output_type": "execute_result",
     "data": {
      "text/plain": [
       "        序号                                               题目描述   知识点 答案   选项A  \\\n",
       "0        1    人们在商务活动中，用似维护企业形象或个人形象，对交往对象表示尊重和友好的行为规范和惯例被（）。  服务礼仪  B  政务礼仪   \n",
       "1        2                           在正常情况下，每一次打电话的时间应当不超过（）。  服务礼仪  C   1分钟   \n",
       "2        3                          接电话时，拿起话筒的最佳时机应在铃声响过（）之后。  服务礼仪  B    一声   \n",
       "3        4                                        （）是礼貌的具体表现。  服务礼仪  A    礼节   \n",
       "4        5                           语言、（）、服饰器物是构成礼仪最基本的三大要素。  服务礼仪  C  文化心态   \n",
       "...    ...                                                ...   ... ..   ...   \n",
       "2699  2700                           目前针对后市场质量管理的法规只有：汽车召回和三包  汽车营销  错   NaN   \n",
       "2700  2701    三包规定”主要针对家用车辆。汽车召回则包括家用和各种运营的道路车辆，只要存在缺陷，都一视同仁。  汽车营销  错   NaN   \n",
       "2701  2702  汽车召回的主要方式是由汽车经营者按照国家有关规定对有问题的汽车承担修理、更换、退货的产品担保责任。  汽车营销  错   NaN   \n",
       "2702  2703  2011年，广州市一位市民购买一辆马自达，与4S店谈妥净车价为20万，上牌费1000，但需在...  汽车营销  错   NaN   \n",
       "2703  2704                 一产品价格提升25%，销量下降20%，该产品的价格需求弹性为0.8。  汽车营销  错   NaN   \n",
       "\n",
       "       选项B    选项C   选项D  \n",
       "0     商务礼仪  销售礼仪   服务礼仪  \n",
       "1      2分钟    3分钟   5分钟  \n",
       "2       两声     四声    五声  \n",
       "3       礼貌     礼仪  风俗习惯  \n",
       "4     历史传统   行为表情  物质水平  \n",
       "...    ...    ...   ...  \n",
       "2699   NaN    NaN   NaN  \n",
       "2700   NaN    NaN   NaN  \n",
       "2701   NaN    NaN   NaN  \n",
       "2702   NaN    NaN   NaN  \n",
       "2703   NaN    NaN   NaN  \n",
       "\n",
       "[2704 rows x 8 columns]"
      ],
      "text/html": "<div>\n<style scoped>\n    .dataframe tbody tr th:only-of-type {\n        vertical-align: middle;\n    }\n\n    .dataframe tbody tr th {\n        vertical-align: top;\n    }\n\n    .dataframe thead th {\n        text-align: right;\n    }\n</style>\n<table border=\"1\" class=\"dataframe\">\n  <thead>\n    <tr style=\"text-align: right;\">\n      <th></th>\n      <th>序号</th>\n      <th>题目描述</th>\n      <th>知识点</th>\n      <th>答案</th>\n      <th>选项A</th>\n      <th>选项B</th>\n      <th>选项C</th>\n      <th>选项D</th>\n    </tr>\n  </thead>\n  <tbody>\n    <tr>\n      <th>0</th>\n      <td>1</td>\n      <td>人们在商务活动中，用似维护企业形象或个人形象，对交往对象表示尊重和友好的行为规范和惯例被（）。</td>\n      <td>服务礼仪</td>\n      <td>B</td>\n      <td>政务礼仪</td>\n      <td>商务礼仪</td>\n      <td>销售礼仪</td>\n      <td>服务礼仪</td>\n    </tr>\n    <tr>\n      <th>1</th>\n      <td>2</td>\n      <td>在正常情况下，每一次打电话的时间应当不超过（）。</td>\n      <td>服务礼仪</td>\n      <td>C</td>\n      <td>1分钟</td>\n      <td>2分钟</td>\n      <td>3分钟</td>\n      <td>5分钟</td>\n    </tr>\n    <tr>\n      <th>2</th>\n      <td>3</td>\n      <td>接电话时，拿起话筒的最佳时机应在铃声响过（）之后。</td>\n      <td>服务礼仪</td>\n      <td>B</td>\n      <td>一声</td>\n      <td>两声</td>\n      <td>四声</td>\n      <td>五声</td>\n    </tr>\n    <tr>\n      <th>3</th>\n      <td>4</td>\n      <td>（）是礼貌的具体表现。</td>\n      <td>服务礼仪</td>\n      <td>A</td>\n      <td>礼节</td>\n      <td>礼貌</td>\n      <td>礼仪</td>\n      <td>风俗习惯</td>\n    </tr>\n    <tr>\n      <th>4</th>\n      <td>5</td>\n      <td>语言、（）、服饰器物是构成礼仪最基本的三大要素。</td>\n      <td>服务礼仪</td>\n      <td>C</td>\n      <td>文化心态</td>\n      <td>历史传统</td>\n      <td>行为表情</td>\n      <td>物质水平</td>\n    </tr>\n    <tr>\n      <th>...</th>\n      <td>...</td>\n      <td>...</td>\n      <td>...</td>\n      <td>...</td>\n      <td>...</td>\n      <td>...</td>\n      <td>...</td>\n      <td>...</td>\n    </tr>\n    <tr>\n      <th>2699</th>\n      <td>2700</td>\n      <td>目前针对后市场质量管理的法规只有：汽车召回和三包</td>\n      <td>汽车营销</td>\n      <td>错</td>\n      <td>NaN</td>\n      <td>NaN</td>\n      <td>NaN</td>\n      <td>NaN</td>\n    </tr>\n    <tr>\n      <th>2700</th>\n      <td>2701</td>\n      <td>三包规定”主要针对家用车辆。汽车召回则包括家用和各种运营的道路车辆，只要存在缺陷，都一视同仁。</td>\n      <td>汽车营销</td>\n      <td>错</td>\n      <td>NaN</td>\n      <td>NaN</td>\n      <td>NaN</td>\n      <td>NaN</td>\n    </tr>\n    <tr>\n      <th>2701</th>\n      <td>2702</td>\n      <td>汽车召回的主要方式是由汽车经营者按照国家有关规定对有问题的汽车承担修理、更换、退货的产品担保责任。</td>\n      <td>汽车营销</td>\n      <td>错</td>\n      <td>NaN</td>\n      <td>NaN</td>\n      <td>NaN</td>\n      <td>NaN</td>\n    </tr>\n    <tr>\n      <th>2702</th>\n      <td>2703</td>\n      <td>2011年，广州市一位市民购买一辆马自达，与4S店谈妥净车价为20万，上牌费1000，但需在...</td>\n      <td>汽车营销</td>\n      <td>错</td>\n      <td>NaN</td>\n      <td>NaN</td>\n      <td>NaN</td>\n      <td>NaN</td>\n    </tr>\n    <tr>\n      <th>2703</th>\n      <td>2704</td>\n      <td>一产品价格提升25%，销量下降20%，该产品的价格需求弹性为0.8。</td>\n      <td>汽车营销</td>\n      <td>错</td>\n      <td>NaN</td>\n      <td>NaN</td>\n      <td>NaN</td>\n      <td>NaN</td>\n    </tr>\n  </tbody>\n</table>\n<p>2704 rows × 8 columns</p>\n</div>"
     },
     "metadata": {},
     "execution_count": 22
    }
   ],
   "source": [
    "import pandas as pd\n",
    "df = pd.read_excel('I:\\运华科技题库.xls')\n",
    "df"
   ]
  },
  {
   "cell_type": "code",
   "execution_count": 57,
   "metadata": {
    "tags": []
   },
   "outputs": [],
   "source": [
    "filename='output.txt'\n",
    "f = open(filename,'w',encoding='utf-8')\n",
    "for index, row in df.iterrows():\n",
    "    f.write(str(index+1)+'、'+ row['题目描述']+'\\n')\n",
    "    f.write('A.'+ str(row['选项A'])+'\\n')\n",
    "    f.write('B.'+ str(row['选项B'])+'\\n')\n",
    "    f.write('C.'+ str(row['选项C'])+'\\n')\n",
    "    f.write('D.'+ str(row['选项D'])+'\\n')\n",
    "    f.write('答案.'+ str(row['答案'])+'\\n')"
   ]
  },
  {
   "cell_type": "code",
   "execution_count": 55,
   "metadata": {},
   "outputs": [
    {
     "output_type": "error",
     "ename": "KeyError",
     "evalue": "'0'",
     "traceback": [
      "\u001b[1;31m---------------------------------------------------------------------------\u001b[0m",
      "\u001b[1;31mKeyError\u001b[0m                                  Traceback (most recent call last)",
      "\u001b[1;32md:\\ProgramData\\Anaconda3\\envs\\d2l\\lib\\site-packages\\pandas\\core\\indexes\\base.py\u001b[0m in \u001b[0;36mget_loc\u001b[1;34m(self, key, method, tolerance)\u001b[0m\n\u001b[0;32m   3079\u001b[0m             \u001b[1;32mtry\u001b[0m\u001b[1;33m:\u001b[0m\u001b[1;33m\u001b[0m\u001b[1;33m\u001b[0m\u001b[0m\n\u001b[1;32m-> 3080\u001b[1;33m                 \u001b[1;32mreturn\u001b[0m \u001b[0mself\u001b[0m\u001b[1;33m.\u001b[0m\u001b[0m_engine\u001b[0m\u001b[1;33m.\u001b[0m\u001b[0mget_loc\u001b[0m\u001b[1;33m(\u001b[0m\u001b[0mcasted_key\u001b[0m\u001b[1;33m)\u001b[0m\u001b[1;33m\u001b[0m\u001b[1;33m\u001b[0m\u001b[0m\n\u001b[0m\u001b[0;32m   3081\u001b[0m             \u001b[1;32mexcept\u001b[0m \u001b[0mKeyError\u001b[0m \u001b[1;32mas\u001b[0m \u001b[0merr\u001b[0m\u001b[1;33m:\u001b[0m\u001b[1;33m\u001b[0m\u001b[1;33m\u001b[0m\u001b[0m\n",
      "\u001b[1;32mpandas\\_libs\\index.pyx\u001b[0m in \u001b[0;36mpandas._libs.index.IndexEngine.get_loc\u001b[1;34m()\u001b[0m\n",
      "\u001b[1;32mpandas\\_libs\\index.pyx\u001b[0m in \u001b[0;36mpandas._libs.index.IndexEngine.get_loc\u001b[1;34m()\u001b[0m\n",
      "\u001b[1;32mpandas\\_libs\\hashtable_class_helper.pxi\u001b[0m in \u001b[0;36mpandas._libs.hashtable.PyObjectHashTable.get_item\u001b[1;34m()\u001b[0m\n",
      "\u001b[1;32mpandas\\_libs\\hashtable_class_helper.pxi\u001b[0m in \u001b[0;36mpandas._libs.hashtable.PyObjectHashTable.get_item\u001b[1;34m()\u001b[0m\n",
      "\u001b[1;31mKeyError\u001b[0m: '0'",
      "\nThe above exception was the direct cause of the following exception:\n",
      "\u001b[1;31mKeyError\u001b[0m                                  Traceback (most recent call last)",
      "\u001b[1;32m<ipython-input-55-2af9006fa92b>\u001b[0m in \u001b[0;36m<module>\u001b[1;34m\u001b[0m\n\u001b[0;32m      2\u001b[0m \u001b[0mline\u001b[0m \u001b[1;33m=\u001b[0m \u001b[1;34m''\u001b[0m\u001b[1;33m\u001b[0m\u001b[1;33m\u001b[0m\u001b[0m\n\u001b[0;32m      3\u001b[0m \u001b[1;32mwhile\u001b[0m \u001b[0mnumber\u001b[0m \u001b[1;33m<=\u001b[0m\u001b[1;36m5\u001b[0m\u001b[1;33m:\u001b[0m\u001b[1;33m\u001b[0m\u001b[1;33m\u001b[0m\u001b[0m\n\u001b[1;32m----> 4\u001b[1;33m     \u001b[0mline\u001b[0m \u001b[1;33m=\u001b[0m \u001b[0mline\u001b[0m \u001b[1;33m+\u001b[0m \u001b[0mdf\u001b[0m\u001b[1;33m[\u001b[0m\u001b[1;34m'0'\u001b[0m\u001b[1;33m]\u001b[0m\u001b[1;33m\u001b[0m\u001b[1;33m\u001b[0m\u001b[0m\n\u001b[0m\u001b[0;32m      5\u001b[0m     \u001b[0mprint\u001b[0m\u001b[1;33m(\u001b[0m\u001b[0mdf\u001b[0m\u001b[1;33m[\u001b[0m\u001b[1;34m'题目描述'\u001b[0m\u001b[1;33m]\u001b[0m\u001b[1;33m[\u001b[0m\u001b[0mnumber\u001b[0m\u001b[1;33m]\u001b[0m\u001b[1;33m)\u001b[0m\u001b[1;33m\u001b[0m\u001b[1;33m\u001b[0m\u001b[0m\n\u001b[0;32m      6\u001b[0m     \u001b[0mnumber\u001b[0m \u001b[1;33m+=\u001b[0m\u001b[1;36m1\u001b[0m\u001b[1;33m\u001b[0m\u001b[1;33m\u001b[0m\u001b[0m\n",
      "\u001b[1;32md:\\ProgramData\\Anaconda3\\envs\\d2l\\lib\\site-packages\\pandas\\core\\frame.py\u001b[0m in \u001b[0;36m__getitem__\u001b[1;34m(self, key)\u001b[0m\n\u001b[0;32m   3022\u001b[0m             \u001b[1;32mif\u001b[0m \u001b[0mself\u001b[0m\u001b[1;33m.\u001b[0m\u001b[0mcolumns\u001b[0m\u001b[1;33m.\u001b[0m\u001b[0mnlevels\u001b[0m \u001b[1;33m>\u001b[0m \u001b[1;36m1\u001b[0m\u001b[1;33m:\u001b[0m\u001b[1;33m\u001b[0m\u001b[1;33m\u001b[0m\u001b[0m\n\u001b[0;32m   3023\u001b[0m                 \u001b[1;32mreturn\u001b[0m \u001b[0mself\u001b[0m\u001b[1;33m.\u001b[0m\u001b[0m_getitem_multilevel\u001b[0m\u001b[1;33m(\u001b[0m\u001b[0mkey\u001b[0m\u001b[1;33m)\u001b[0m\u001b[1;33m\u001b[0m\u001b[1;33m\u001b[0m\u001b[0m\n\u001b[1;32m-> 3024\u001b[1;33m             \u001b[0mindexer\u001b[0m \u001b[1;33m=\u001b[0m \u001b[0mself\u001b[0m\u001b[1;33m.\u001b[0m\u001b[0mcolumns\u001b[0m\u001b[1;33m.\u001b[0m\u001b[0mget_loc\u001b[0m\u001b[1;33m(\u001b[0m\u001b[0mkey\u001b[0m\u001b[1;33m)\u001b[0m\u001b[1;33m\u001b[0m\u001b[1;33m\u001b[0m\u001b[0m\n\u001b[0m\u001b[0;32m   3025\u001b[0m             \u001b[1;32mif\u001b[0m \u001b[0mis_integer\u001b[0m\u001b[1;33m(\u001b[0m\u001b[0mindexer\u001b[0m\u001b[1;33m)\u001b[0m\u001b[1;33m:\u001b[0m\u001b[1;33m\u001b[0m\u001b[1;33m\u001b[0m\u001b[0m\n\u001b[0;32m   3026\u001b[0m                 \u001b[0mindexer\u001b[0m \u001b[1;33m=\u001b[0m \u001b[1;33m[\u001b[0m\u001b[0mindexer\u001b[0m\u001b[1;33m]\u001b[0m\u001b[1;33m\u001b[0m\u001b[1;33m\u001b[0m\u001b[0m\n",
      "\u001b[1;32md:\\ProgramData\\Anaconda3\\envs\\d2l\\lib\\site-packages\\pandas\\core\\indexes\\base.py\u001b[0m in \u001b[0;36mget_loc\u001b[1;34m(self, key, method, tolerance)\u001b[0m\n\u001b[0;32m   3080\u001b[0m                 \u001b[1;32mreturn\u001b[0m \u001b[0mself\u001b[0m\u001b[1;33m.\u001b[0m\u001b[0m_engine\u001b[0m\u001b[1;33m.\u001b[0m\u001b[0mget_loc\u001b[0m\u001b[1;33m(\u001b[0m\u001b[0mcasted_key\u001b[0m\u001b[1;33m)\u001b[0m\u001b[1;33m\u001b[0m\u001b[1;33m\u001b[0m\u001b[0m\n\u001b[0;32m   3081\u001b[0m             \u001b[1;32mexcept\u001b[0m \u001b[0mKeyError\u001b[0m \u001b[1;32mas\u001b[0m \u001b[0merr\u001b[0m\u001b[1;33m:\u001b[0m\u001b[1;33m\u001b[0m\u001b[1;33m\u001b[0m\u001b[0m\n\u001b[1;32m-> 3082\u001b[1;33m                 \u001b[1;32mraise\u001b[0m \u001b[0mKeyError\u001b[0m\u001b[1;33m(\u001b[0m\u001b[0mkey\u001b[0m\u001b[1;33m)\u001b[0m \u001b[1;32mfrom\u001b[0m \u001b[0merr\u001b[0m\u001b[1;33m\u001b[0m\u001b[1;33m\u001b[0m\u001b[0m\n\u001b[0m\u001b[0;32m   3083\u001b[0m \u001b[1;33m\u001b[0m\u001b[0m\n\u001b[0;32m   3084\u001b[0m         \u001b[1;32mif\u001b[0m \u001b[0mtolerance\u001b[0m \u001b[1;32mis\u001b[0m \u001b[1;32mnot\u001b[0m \u001b[1;32mNone\u001b[0m\u001b[1;33m:\u001b[0m\u001b[1;33m\u001b[0m\u001b[1;33m\u001b[0m\u001b[0m\n",
      "\u001b[1;31mKeyError\u001b[0m: '0'"
     ]
    }
   ],
   "source": [
    "number = 1\n",
    "line = ''\n",
    "while number <=5:\n",
    "    line = line + df['0']\n",
    "    print(df['题目描述'][number])\n",
    "    number +=1"
   ]
  },
  {
   "cell_type": "code",
   "execution_count": 14,
   "metadata": {},
   "outputs": [
    {
     "output_type": "error",
     "ename": "TypeError",
     "evalue": "write() argument must be str, not Series",
     "traceback": [
      "\u001b[1;31m---------------------------------------------------------------------------\u001b[0m",
      "\u001b[1;31mTypeError\u001b[0m                                 Traceback (most recent call last)",
      "\u001b[1;32m<ipython-input-14-340a050472c1>\u001b[0m in \u001b[0;36m<module>\u001b[1;34m\u001b[0m\n\u001b[0;32m      1\u001b[0m \u001b[0mfilename\u001b[0m\u001b[1;33m=\u001b[0m\u001b[1;34m'output.txt'\u001b[0m\u001b[1;33m\u001b[0m\u001b[1;33m\u001b[0m\u001b[0m\n\u001b[0;32m      2\u001b[0m \u001b[1;32mwith\u001b[0m \u001b[0mopen\u001b[0m\u001b[1;33m(\u001b[0m\u001b[0mfilename\u001b[0m\u001b[1;33m,\u001b[0m\u001b[1;34m'w'\u001b[0m\u001b[1;33m)\u001b[0m \u001b[1;32mas\u001b[0m \u001b[0mfile_object\u001b[0m\u001b[1;33m:\u001b[0m\u001b[1;33m\u001b[0m\u001b[1;33m\u001b[0m\u001b[0m\n\u001b[1;32m----> 3\u001b[1;33m     \u001b[0mfile_object\u001b[0m\u001b[1;33m.\u001b[0m\u001b[0mwrite\u001b[0m\u001b[1;33m(\u001b[0m\u001b[0mdf\u001b[0m\u001b[1;33m[\u001b[0m\u001b[1;34m'题目描述'\u001b[0m\u001b[1;33m]\u001b[0m\u001b[1;33m)\u001b[0m\u001b[1;33m\u001b[0m\u001b[1;33m\u001b[0m\u001b[0m\n\u001b[0m",
      "\u001b[1;31mTypeError\u001b[0m: write() argument must be str, not Series"
     ]
    }
   ],
   "source": [
    "filename='output.txt'\n",
    "with open(filename,'w') as file_object:\n",
    "    file_object.write(df['题目描述'])"
   ]
  },
  {
   "cell_type": "code",
   "execution_count": null,
   "metadata": {},
   "outputs": [],
   "source": []
  }
 ]
}